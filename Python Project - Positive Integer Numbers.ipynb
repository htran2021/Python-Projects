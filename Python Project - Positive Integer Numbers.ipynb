{
 "cells": [
  {
   "cell_type": "markdown",
   "metadata": {},
   "source": [
    "## Python Project - Postive Integer Numbers"
   ]
  },
  {
   "cell_type": "markdown",
   "metadata": {},
   "source": [
    "This Python project is about applying some basic Functions, Loops, and If formulas to analyze the positive integer numbers. It will prompt the users to choose which option they want to know about the integer numbers, input the numbers, and provide the results. During the process, users can choose continue or exit the program by entering \"exit\". Below is the key things in the project:\n",
    "<br>\n",
    "1) Ask the user to input the positive integers. Keep asking them until they give a correct format of positive integer. \n",
    "2) While iterating the above input process, user can choose \"exit\" to quit the program. \n",
    "3) Determine if an input is odd or even number. \n",
    "4) Find factors of an integer number.\n",
    "5) Determine if an integer input is prime number or not. \n",
    "6) Input the range of numbers (beginning - last), then find prime numbers within that range. \n",
    "7) Ask the user to input a list of integer numbers, then use the info to provide statistical analysis.\n",
    "8) Find sum of digits in the integer.\n",
    "9) When showing an output, let's ask the users if they want to continue or not. \n",
    "\n",
    "    "
   ]
  },
  {
   "cell_type": "markdown",
   "metadata": {},
   "source": [
    "I. The first function is built to prompt users to input a positive integer number. \n",
    "- Set up the loops to keep asking the users to input the correct format of a postive integer. \n",
    "- The users can type \"exit\" to exit the program. Otherwise, they have to put the positive integer number to continue."
   ]
  },
  {
   "cell_type": "code",
   "execution_count": null,
   "metadata": {},
   "outputs": [],
   "source": [
    "def input1():\n",
    "    val = False\n",
    "    while val == False:\n",
    "        k = input('Please input a positive integer: ')\n",
    "        if k == 'exit':\n",
    "            return k\n",
    "            break\n",
    "        else:\n",
    "            try:\n",
    "                k = int(k)\n",
    "                if k >0:\n",
    "                    return k\n",
    "                    val = True\n",
    "                else:\n",
    "                    print('The number must be positive. Please try it again or \"exit\" the program')  \n",
    "            except ValueError:\n",
    "                    print('This is not an integer. Please try it again or \"exit\" the program')\n",
    "\n",
    "# Try input1() to test the above function.\n"
   ]
  },
  {
   "cell_type": "markdown",
   "metadata": {},
   "source": [
    "II. The even_odd() function is built to answer if the input as a postive integer is an even or odd number. \n",
    "- First, we ask the users to input a postive number by applying the above input1().\n",
    "- Second, the function is applied to determine if a number is even or odd. "
   ]
  },
  {
   "cell_type": "code",
   "execution_count": null,
   "metadata": {},
   "outputs": [],
   "source": [
    "def even_odd():\n",
    "    k = input1()\n",
    "    if k == 'exit':\n",
    "        print('Thank you for using the program. Have a good day!')\n",
    "    elif k % 2 == 0:\n",
    "        print(k,'is an even number')\n",
    "    else:\n",
    "        print(k,'is an odd numer')\n",
    "\n",
    "# Try even_odd() to test the above function"
   ]
  },
  {
   "cell_type": "markdown",
   "metadata": {},
   "source": [
    "III. The factors() function is built to find factors of a postive integer number. \n",
    "- First, we ask the users to input a postive number by applying the above input1().\n",
    "- Second, the function is applied to return all of the factors in the number."
   ]
  },
  {
   "cell_type": "code",
   "execution_count": null,
   "metadata": {},
   "outputs": [],
   "source": [
    "def factors():\n",
    "    k = input1()\n",
    "    l = []\n",
    "    if k == 'exit':\n",
    "        print('Thank you for using the program. Have a good day!')\n",
    "        exit()\n",
    "    else:\n",
    "        for x in range(1,k+1):\n",
    "            if k % x == 0:\n",
    "                l.append(x)\n",
    "        print('The factors of',k,'is',l)        \n",
    "        return l\n",
    "\n",
    "# Try using the factors() to call the above functions"
   ]
  },
  {
   "cell_type": "markdown",
   "metadata": {},
   "source": [
    "IV. The primenum function is built to determine if the input is a prime number or not. \n",
    "- First, we ask the users to input a postive number by applying the above input1().\n",
    "- Call the factors() function to retrieve a number of factors.\n",
    "- Then, the function is called to return if the input is positive or negative. "
   ]
  },
  {
   "cell_type": "code",
   "execution_count": null,
   "metadata": {},
   "outputs": [],
   "source": [
    "def primenum():\n",
    "    t = factors()\n",
    "    if len(t) == 2:\n",
    "        print('This is a prime number')\n",
    "    else:\n",
    "        print('This is not a prime number')"
   ]
  },
  {
   "cell_type": "markdown",
   "metadata": {},
   "source": [
    "V. The primes() function is built to find prime numbers within a range (min number - max number)\n",
    "- Ask users to determine a range of number from the beginning number (min) to the last number(max).\n",
    "- Create a primenumber(a) to find a number of factors for a. \n",
    "- Apply the above primenumber(a) to determine if each number in the range is prime or not. \n",
    "- Return a list of prime numbers within a range.  "
   ]
  },
  {
   "cell_type": "code",
   "execution_count": null,
   "metadata": {},
   "outputs": [],
   "source": [
    "def primenumber(a):\n",
    "    count = 0 \n",
    "    for x in range(1,a+1):\n",
    "        if a % x == 0:\n",
    "            count = count + 1\n",
    "    return count\n",
    "def primes():\n",
    "    print('Please start with the beginning number')\n",
    "    mini = input1()\n",
    "    if mini == 'exit':\n",
    "        print('Thank you for using the program. Have a good day!')\n",
    "        exit()\n",
    "    print('Please choose the number we end with')\n",
    "    maxi = input1()\n",
    "    if maxi == 'exit':\n",
    "        print('Thank you for using the program. Have a good day!')\n",
    "        exit()\n",
    "    List = []\n",
    "    for x in range(mini,maxi+1):\n",
    "        if primenumber(x) == 2:\n",
    "            List.append(x)\n",
    "    print(\"The prime numbers are:\",List)\n",
    "# Try using the primes() to return a number of prime numbers within a range. "
   ]
  },
  {
   "cell_type": "markdown",
   "metadata": {},
   "source": [
    "VI. The stat() function is used to gain more insights into a list of positive numbers. This function includes min, max, mean, median, and range for the list.\n",
    "- Ask the users to input a group size of postive integer numbers. Then, promt them to input each number. \n",
    "- Define the min and max function. \n",
    "- Use sort function to find median in a list with even/odd sample size. \n",
    "- Find out the range of the list by taking a difference between the min and max number."
   ]
  },
  {
   "cell_type": "code",
   "execution_count": null,
   "metadata": {},
   "outputs": [],
   "source": [
    "# Build the min function to find the minimum number in a list.\n",
    "# Try min(x) function with x defined as a list.\n",
    "def min(x):\n",
    "    k = x[0]\n",
    "    for y in x:\n",
    "        if k > y:\n",
    "            k = y\n",
    "    return k\n",
    "\n",
    "# Build the max function to find the maximum number in a list.\n",
    "# Try max(x) function with x defined as a list.\n",
    "def max(x):\n",
    "    k = x[0]\n",
    "    for y in x:\n",
    "        if k < y:\n",
    "            k = y\n",
    "    return k\n",
    "\n",
    "\n",
    "def stat():\n",
    "    # Ask the users to input a list of numbers\n",
    "    # Return the stat summary: min, max, mean, median, and range.\n",
    "    print(\"How many numbers do you want to add into a list\")\n",
    "    n = input1()\n",
    "    if n == 'exit':\n",
    "        print('Thank you for using the program. Have a good day!')\n",
    "        exit()\n",
    "    List = []\n",
    "    for n in range(1,n+1):\n",
    "        print(str(n) + \".\" +'Please enter the number.')\n",
    "        x = input1()\n",
    "        if x == 'exit':\n",
    "            print('Thank you for using the program. Have a good day!')\n",
    "            exit()\n",
    "        else:\n",
    "            List.append(x)\n",
    "    print(\"The smallest integer in the list is\",min(List))\n",
    "    print(\"The biggest integer in the list is\",max(List))\n",
    "    print(\"There is/are\",len(List),\"numbers in the list. The total is\",sum(List))\n",
    "    print(\"The average of the list is\",sum(List)/len(List))\n",
    "    print(\"The range of the list is\",max(List)-min(List))\n",
    "    List.sort()\n",
    "    print(\"The ascending order of the list is\",List)\n",
    "    k = len(List)\n",
    "    if k % 2 == 0:\n",
    "        t = int(k/2 - 1)\n",
    "        median_val = (List[t]+List[t+1])/2\n",
    "        print(\"The median value of the list is\",median_val)\n",
    "    else:\n",
    "        t = int(k/2 - 0.5)\n",
    "        print(\"The median value of the list is\",List[t])\n",
    "\n",
    "# Try using the stat() to return min, max, mean, median, and range of numbers in a list. "
   ]
  },
  {
   "cell_type": "markdown",
   "metadata": {},
   "source": [
    "VII. The sumofdigits() function is built to find a sum of digits in a postive integer number\n",
    "- Ask the user to input a positive integer. \n",
    "- Then, apply the function to return the sum of digits."
   ]
  },
  {
   "cell_type": "code",
   "execution_count": null,
   "metadata": {},
   "outputs": [],
   "source": [
    "def sumofdigits():\n",
    "    k = input1()\n",
    "    if k == 'exit':\n",
    "        print('Thank you for using the program. Have a good day!')\n",
    "    else:   \n",
    "        k_str = str(k)\n",
    "        sum_digits = 0\n",
    "        for x in str(k):\n",
    "            sum_digits += int(x)\n",
    "        print(\"Sum of digits in an integer number is\",sum_digits)\n",
    "\n",
    "# Try using the sumofdigits() to return a sum of digits in a number."
   ]
  },
  {
   "cell_type": "markdown",
   "metadata": {},
   "source": [
    "VIII. Build the main function to combine all of the above functions. This function will list out 7 options to prompt users which function they want to use. Design a tool so that they can choose to go back to main menu or exit the program after the function/option is called/applied. "
   ]
  },
  {
   "cell_type": "code",
   "execution_count": null,
   "metadata": {},
   "outputs": [],
   "source": [
    "# Design the return1 function to attach it into the main function. This function is applied to help\n",
    "# the users to navigate (go back to Main Menu or exit) after applying the function. \n",
    "def return1():\n",
    "    val = \"true\"\n",
    "    while val == \"true\":\n",
    "        option = input(\"Please choose 1 to continue or 0 to exit: \")\n",
    "        if (option == \"1\" or option == \"0\"):\n",
    "            val = \"false\"\n",
    "        else:\n",
    "            continue\n",
    "    if option == \"1\":\n",
    "        print(\"Please see the below options \\n\")\n",
    "    else:\n",
    "        exit()\n",
    "\n",
    "# List out the above built functions and ask users to choose which one they want to run\n",
    "def main():\n",
    "    while True:\n",
    "        option = input(\"What do you want to do?  Please enter a numerical option below.\\n\"\n",
    "        \"1. Determine even or odd\\n\"\n",
    "        \"2. Find factors\\n\"\n",
    "        \"3. Determine prime numbers\\n\"\n",
    "        \"4. Find a list of prime numbers\\n\"\n",
    "        \"5. Statistical Analysis for a list of numbers\\n\"\n",
    "        \"6. Find sum of digits in an integer\\n\"\n",
    "        \"7. exit\\n\")\n",
    "        if option == \"1\":\n",
    "            even_odd()\n",
    "            return1()\n",
    "        elif option == \"2\":\n",
    "            factors()\n",
    "            return1()\n",
    "        elif option == \"3\":\n",
    "            primenum()\n",
    "            return1()\n",
    "        elif option == \"4\":\n",
    "            primes()\n",
    "            return1()\n",
    "        elif option == \"5\":\n",
    "            stat()\n",
    "            return1()\n",
    "        elif option == \"6\":\n",
    "            sumofdigits()\n",
    "            return1()\n",
    "        elif option == \"7\":\n",
    "            break\n",
    "\n",
    "if __name__ == '__main__':\n",
    "    main()"
   ]
  },
  {
   "cell_type": "markdown",
   "metadata": {},
   "source": []
  }
 ],
 "metadata": {
  "interpreter": {
   "hash": "b89b5cfaba6639976dc87ff2fec6d58faec662063367e2c229c520fe71072417"
  },
  "kernelspec": {
   "display_name": "Python 3.10.1 64-bit",
   "language": "python",
   "name": "python3"
  },
  "language_info": {
   "codemirror_mode": {
    "name": "ipython",
    "version": 3
   },
   "file_extension": ".py",
   "mimetype": "text/x-python",
   "name": "python",
   "nbconvert_exporter": "python",
   "pygments_lexer": "ipython3",
   "version": "3.10.1"
  },
  "orig_nbformat": 4
 },
 "nbformat": 4,
 "nbformat_minor": 2
}
